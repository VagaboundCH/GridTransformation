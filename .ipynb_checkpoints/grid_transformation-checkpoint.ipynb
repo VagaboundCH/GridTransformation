{
 "cells": [
  {
   "cell_type": "code",
   "execution_count": 1,
   "metadata": {},
   "outputs": [],
   "source": [
    "import os\n",
    "from PIL import Image\n",
    "import numpy as np\n",
    "import matplotlib.pyplot as plt\n",
    "from scipy import interpolate\n",
    "import cv2\n",
    "from copy import copy, deepcopy"
   ]
  },
  {
   "cell_type": "code",
   "execution_count": 2,
   "metadata": {},
   "outputs": [],
   "source": [
    "# Befehl muss zweimal ausgeführt werden (komisch)\n",
    "%matplotlib qt\n",
    "%matplotlib qt"
   ]
  },
  {
   "cell_type": "code",
   "execution_count": 3,
   "metadata": {},
   "outputs": [
    {
     "name": "stdout",
     "output_type": "stream",
     "text": [
      "C:/Users/User/GridTransformation/\n",
      "['Apfel.jpg', 'grid_transformation.ipynb']\n",
      "2\n"
     ]
    }
   ],
   "source": [
    "path_folder = 'C:/Users/User/GridTransformation/' # xml path\n",
    "path_folder, dirs, files = next(os.walk(path_folder))\n",
    "number_images = len(files)\n",
    "\n",
    "print(path_folder)\n",
    "print(files)\n",
    "print(number_images)"
   ]
  },
  {
   "cell_type": "code",
   "execution_count": 4,
   "metadata": {},
   "outputs": [],
   "source": [
    "with Image.open(path_folder + files[0]) as file:\n",
    "    img = np.array(file)\n",
    "    x,y,z = np.shape(img)\n",
    "# print(x,y,z)   "
   ]
  },
  {
   "cell_type": "markdown",
   "metadata": {},
   "source": [
    "Image <br>\n",
    "https://help.geogebra.org/topic/nonlinear-image-transformations <br>\n",
    "More translation <br>\n",
    "http://www.pacifict.com/WhatsNew.html <br>"
   ]
  },
  {
   "cell_type": "code",
   "execution_count": 5,
   "metadata": {},
   "outputs": [],
   "source": [
    "plt.close('all')"
   ]
  },
  {
   "cell_type": "code",
   "execution_count": 6,
   "metadata": {},
   "outputs": [
    {
     "data": {
      "text/plain": [
       "<matplotlib.image.AxesImage at 0xddd51d0>"
      ]
     },
     "execution_count": 6,
     "metadata": {},
     "output_type": "execute_result"
    }
   ],
   "source": [
    "plt.figure('original')\n",
    "plt.imshow(img)"
   ]
  },
  {
   "cell_type": "code",
   "execution_count": 7,
   "metadata": {},
   "outputs": [],
   "source": [
    "z0 = np.array(range(x)) # Imaginär\n",
    "z1 = np.array(range(y)) # Real\n",
    "z_transform = np.array(np.empty((x,y,3)))\n",
    "z_transform.fill(np.nan) # nan werden später interpoliert\n",
    "# Dient nur zur Veranschaulichung\n",
    "# z_zero_plot = np.array([[[0 for k in range(3)] for j in range(y)] for i in range(x)]) \n",
    "tmp = [[0 for j in range(y)] for i in range(x)]\n",
    "a = 50                 # 5, passiert gar nichts, wenn n = 0\n",
    "n = 15                 # 15\n",
    "m = 1.09              # Potenz von square\n",
    "func = 'sin'\n",
    "\n",
    "\n",
    "# print(z0)\n",
    "# print(z1)\n",
    "# print(np.shape(z_transform))\n",
    "# print(np.shape(tmp))"
   ]
  },
  {
   "cell_type": "code",
   "execution_count": 8,
   "metadata": {},
   "outputs": [],
   "source": [
    "def grid_transform_apple(i,k,a,n):\n",
    "    z = z0[i]*1j + z1[k]\n",
    "    return z + np.exp(-(1/2**n)*(abs(z))**2) * (z - a)\n",
    "\n",
    "def grid_transform_square(i,k,m):\n",
    "    z = (z0[i]*1j + z1[k])/255\n",
    "    return z**z *255\n",
    "\n",
    "def grid_transform_sin(i,k):\n",
    "    z = (z0[i]*1j + z1[k])/255\n",
    "    return 1.2*np.sin(z)*255"
   ]
  },
  {
   "cell_type": "code",
   "execution_count": 9,
   "metadata": {},
   "outputs": [],
   "source": [
    "for i in range(x):\n",
    "    for k in range(y):\n",
    "        if func == 'apple':\n",
    "            tmp[i][k] = grid_transform_apple(i,k,a,n)\n",
    "        elif func == 'square':\n",
    "            tmp[i][k] = grid_transform_square(i,k,m)\n",
    "        elif func == 'sin':\n",
    "            tmp[i][k] = grid_transform_sin(i,k)\n",
    "             \n",
    "        complex_number = tmp[i][k]\n",
    "        complex_imag = round(int(complex_number.imag))\n",
    "        complex_real = round(int(complex_number.real))\n",
    "        \n",
    "        if complex_imag >= 0 and complex_imag < x:\n",
    "            if complex_real >= 0 and complex_real < y:\n",
    "                z_transform[complex_imag][complex_real] = img[i][k]"
   ]
  },
  {
   "cell_type": "markdown",
   "metadata": {},
   "source": [
    "isnan(): <br>\n",
    "https://stackoverflow.com/questions/5124376/convert-nan-value-to-zero <br>"
   ]
  },
  {
   "cell_type": "code",
   "execution_count": 10,
   "metadata": {},
   "outputs": [
    {
     "name": "stderr",
     "output_type": "stream",
     "text": [
      "C:\\Users\\User\\Anaconda3\\lib\\site-packages\\ipykernel_launcher.py:2: RuntimeWarning: invalid value encountered in greater\n",
      "  \n"
     ]
    }
   ],
   "source": [
    "z_transform_mask = deepcopy(z_transform)\n",
    "z_transform_mask[z_transform_mask>0] = 0\n",
    "where_are_NaNs = np.isnan(z_transform)\n",
    "z_transform_mask[where_are_NaNs] = 255\n",
    "# print(z_transform)\n",
    "z_transform[where_are_NaNs] = 0"
   ]
  },
  {
   "cell_type": "code",
   "execution_count": 11,
   "metadata": {},
   "outputs": [
    {
     "data": {
      "text/plain": [
       "<matplotlib.image.AxesImage at 0x103a16a0>"
      ]
     },
     "execution_count": 11,
     "metadata": {},
     "output_type": "execute_result"
    }
   ],
   "source": [
    "#plt.figure('z_transform')\n",
    "#plt.imshow(z_transform/255)\n",
    "plt.figure('z_transform_mask')\n",
    "plt.imshow(z_transform_mask/255)"
   ]
  },
  {
   "cell_type": "markdown",
   "metadata": {},
   "source": [
    "inpaint(): <br>\n",
    "http://www.bogotobogo.com/python/OpenCV_Python/python_opencv3_Image_reconstruction_Inpainting_Interpolation.php <br>"
   ]
  },
  {
   "cell_type": "code",
   "execution_count": 12,
   "metadata": {},
   "outputs": [],
   "source": [
    "# cv2.inpaint benötigt arrays vom typ uint8\n",
    "# print(z_transform_mask.dtype)\n",
    "# print(z_transform.dtype)\n",
    "\n",
    "mask = np.uint8(z_transform_mask)\n",
    "img = np.uint8(z_transform)\n",
    "\n",
    "# print(mask.dtype)\n",
    "# print(img.dtype)\n",
    "\n",
    "dst_TELEA = cv2.inpaint(img, mask[:,:,0], 3, cv2.INPAINT_TELEA)\n",
    "dst_NS = cv2.inpaint(img, mask[:,:,0], 3, cv2.INPAINT_NS)"
   ]
  },
  {
   "cell_type": "code",
   "execution_count": 13,
   "metadata": {},
   "outputs": [],
   "source": [
    "# plt.figure('img')\n",
    "# plt.imshow(mask)"
   ]
  },
  {
   "cell_type": "code",
   "execution_count": 14,
   "metadata": {},
   "outputs": [],
   "source": [
    "# plt.figure('mask')\n",
    "# plt.imshow(mask)"
   ]
  },
  {
   "cell_type": "code",
   "execution_count": 15,
   "metadata": {},
   "outputs": [],
   "source": [
    "# schlechter als dst_NS\n",
    "# plt.figure('TELEA')\n",
    "# plt.imshow(dst_TELEA/255)"
   ]
  },
  {
   "cell_type": "code",
   "execution_count": 16,
   "metadata": {},
   "outputs": [
    {
     "data": {
      "text/plain": [
       "<matplotlib.image.AxesImage at 0x103cea90>"
      ]
     },
     "execution_count": 16,
     "metadata": {},
     "output_type": "execute_result"
    }
   ],
   "source": [
    "# Diese Interpolation verwenden\n",
    "plt.figure('dst_NS')\n",
    "plt.imshow(dst_NS/255)"
   ]
  },
  {
   "cell_type": "code",
   "execution_count": null,
   "metadata": {},
   "outputs": [],
   "source": []
  },
  {
   "cell_type": "code",
   "execution_count": null,
   "metadata": {},
   "outputs": [],
   "source": []
  },
  {
   "cell_type": "code",
   "execution_count": 17,
   "metadata": {},
   "outputs": [
    {
     "data": {
      "text/plain": [
       "(312+50j)"
      ]
     },
     "execution_count": 17,
     "metadata": {},
     "output_type": "execute_result"
    }
   ],
   "source": [
    "np.cos(np.pi/4*z1[k])*50j +z1[k]"
   ]
  },
  {
   "cell_type": "code",
   "execution_count": 18,
   "metadata": {},
   "outputs": [
    {
     "data": {
      "text/plain": [
       "(200-1.3474209693803825e-13j)"
      ]
     },
     "execution_count": 18,
     "metadata": {},
     "output_type": "execute_result"
    }
   ],
   "source": [
    "(np.cos(np.pi/4*30))*50j +200"
   ]
  },
  {
   "cell_type": "code",
   "execution_count": 19,
   "metadata": {},
   "outputs": [
    {
     "data": {
      "text/plain": [
       "(200+43.30127018922194j)"
      ]
     },
     "execution_count": 19,
     "metadata": {},
     "output_type": "execute_result"
    }
   ],
   "source": [
    "np.cos(np.pi/180*30)*50j +200"
   ]
  },
  {
   "cell_type": "code",
   "execution_count": 20,
   "metadata": {},
   "outputs": [
    {
     "data": {
      "text/plain": [
       "(200+42.858365035105614j)"
      ]
     },
     "execution_count": 20,
     "metadata": {},
     "output_type": "execute_result"
    }
   ],
   "source": [
    "np.cos(np.pi/180*31)*50j +200"
   ]
  },
  {
   "cell_type": "code",
   "execution_count": 21,
   "metadata": {},
   "outputs": [
    {
     "data": {
      "text/plain": [
       "(226+238.60402013189994j)"
      ]
     },
     "execution_count": 21,
     "metadata": {},
     "output_type": "execute_result"
    }
   ],
   "source": [
    "a = 226\n",
    "240*1j + np.cos(np.pi/90*a)*40j + a"
   ]
  },
  {
   "cell_type": "code",
   "execution_count": null,
   "metadata": {},
   "outputs": [],
   "source": []
  },
  {
   "cell_type": "code",
   "execution_count": null,
   "metadata": {},
   "outputs": [],
   "source": []
  }
 ],
 "metadata": {
  "kernelspec": {
   "display_name": "Python 3",
   "language": "python",
   "name": "python3"
  },
  "language_info": {
   "codemirror_mode": {
    "name": "ipython",
    "version": 3
   },
   "file_extension": ".py",
   "mimetype": "text/x-python",
   "name": "python",
   "nbconvert_exporter": "python",
   "pygments_lexer": "ipython3",
   "version": "3.6.4"
  }
 },
 "nbformat": 4,
 "nbformat_minor": 2
}
